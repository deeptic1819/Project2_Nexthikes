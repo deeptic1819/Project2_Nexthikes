{
 "cells": [
  {
   "cell_type": "markdown",
   "id": "0eb8e930-749c-4855-a66f-fdf137d81f80",
   "metadata": {},
   "source": [
    "### Import Libraries"
   ]
  },
  {
   "cell_type": "code",
   "execution_count": 2,
   "id": "b7c6309a-0920-44f9-9482-f80c8ec57de3",
   "metadata": {},
   "outputs": [],
   "source": [
    "import pandas as pd\n",
    "import numpy as np\n",
    "import matplotlib.pyplot as plt\n",
    "import seaborn as sns"
   ]
  },
  {
   "cell_type": "markdown",
   "id": "73bbe33c-b385-4ca9-a4b0-79b41dcff37e",
   "metadata": {},
   "source": [
    "### Load Dataset 1"
   ]
  },
  {
   "cell_type": "code",
   "execution_count": 4,
   "id": "b20006f8-3de3-4710-80d8-4771bbd74006",
   "metadata": {},
   "outputs": [],
   "source": [
    "df1 = pd.read_csv(\"dataset_1 - dataset_1.csv\") "
   ]
  },
  {
   "cell_type": "code",
   "execution_count": 5,
   "id": "b652b45f-5d93-4ae7-9fb8-9621ab4cfcad",
   "metadata": {},
   "outputs": [
    {
     "data": {
      "text/html": [
       "<div>\n",
       "<style scoped>\n",
       "    .dataframe tbody tr th:only-of-type {\n",
       "        vertical-align: middle;\n",
       "    }\n",
       "\n",
       "    .dataframe tbody tr th {\n",
       "        vertical-align: top;\n",
       "    }\n",
       "\n",
       "    .dataframe thead th {\n",
       "        text-align: right;\n",
       "    }\n",
       "</style>\n",
       "<table border=\"1\" class=\"dataframe\">\n",
       "  <thead>\n",
       "    <tr style=\"text-align: right;\">\n",
       "      <th></th>\n",
       "      <th>instant</th>\n",
       "      <th>dteday</th>\n",
       "      <th>season</th>\n",
       "      <th>yr</th>\n",
       "      <th>mnth</th>\n",
       "      <th>hr</th>\n",
       "      <th>holiday</th>\n",
       "      <th>weekday</th>\n",
       "      <th>weathersit</th>\n",
       "      <th>temp</th>\n",
       "    </tr>\n",
       "  </thead>\n",
       "  <tbody>\n",
       "    <tr>\n",
       "      <th>0</th>\n",
       "      <td>1</td>\n",
       "      <td>01-01-2011</td>\n",
       "      <td>1</td>\n",
       "      <td>0</td>\n",
       "      <td>1</td>\n",
       "      <td>0</td>\n",
       "      <td>False</td>\n",
       "      <td>6</td>\n",
       "      <td>1</td>\n",
       "      <td>0.24</td>\n",
       "    </tr>\n",
       "    <tr>\n",
       "      <th>1</th>\n",
       "      <td>2</td>\n",
       "      <td>01-01-2011</td>\n",
       "      <td>1</td>\n",
       "      <td>0</td>\n",
       "      <td>1</td>\n",
       "      <td>1</td>\n",
       "      <td>False</td>\n",
       "      <td>6</td>\n",
       "      <td>1</td>\n",
       "      <td>0.22</td>\n",
       "    </tr>\n",
       "  </tbody>\n",
       "</table>\n",
       "</div>"
      ],
      "text/plain": [
       "   instant      dteday  season  yr  mnth  hr  holiday  weekday  weathersit  \\\n",
       "0        1  01-01-2011       1   0     1   0    False        6           1   \n",
       "1        2  01-01-2011       1   0     1   1    False        6           1   \n",
       "\n",
       "   temp  \n",
       "0  0.24  \n",
       "1  0.22  "
      ]
     },
     "execution_count": 5,
     "metadata": {},
     "output_type": "execute_result"
    }
   ],
   "source": [
    "df1.head(2)"
   ]
  },
  {
   "cell_type": "markdown",
   "id": "e466000c-17b3-4c53-b3b5-413466a8471e",
   "metadata": {},
   "source": [
    "#### Information and Summary of Dataset 1:"
   ]
  },
  {
   "cell_type": "code",
   "execution_count": 7,
   "id": "b6f6fae0-4e17-46e3-9a3c-c3e270f26a55",
   "metadata": {},
   "outputs": [
    {
     "name": "stdout",
     "output_type": "stream",
     "text": [
      "<class 'pandas.core.frame.DataFrame'>\n",
      "RangeIndex: 610 entries, 0 to 609\n",
      "Data columns (total 10 columns):\n",
      " #   Column      Non-Null Count  Dtype  \n",
      "---  ------      --------------  -----  \n",
      " 0   instant     610 non-null    int64  \n",
      " 1   dteday      610 non-null    object \n",
      " 2   season      610 non-null    int64  \n",
      " 3   yr          610 non-null    int64  \n",
      " 4   mnth        610 non-null    int64  \n",
      " 5   hr          610 non-null    int64  \n",
      " 6   holiday     610 non-null    bool   \n",
      " 7   weekday     610 non-null    int64  \n",
      " 8   weathersit  610 non-null    int64  \n",
      " 9   temp        610 non-null    float64\n",
      "dtypes: bool(1), float64(1), int64(7), object(1)\n",
      "memory usage: 43.6+ KB\n"
     ]
    }
   ],
   "source": [
    "df1.info()"
   ]
  },
  {
   "cell_type": "markdown",
   "id": "785149b4-29e0-463a-9351-d29d5a0495e7",
   "metadata": {},
   "source": [
    "#### Change type of column dteday."
   ]
  },
  {
   "cell_type": "code",
   "execution_count": 9,
   "id": "d4ff7dd6-04ae-4b5a-8458-19e27e8be575",
   "metadata": {},
   "outputs": [],
   "source": [
    "##df['dteday']=pd.to_datetime(df['dteday'],format= '%d-%m-%Y')\n",
    "df1['dteday']=df1['dteday'].astype('datetime64[ns]')"
   ]
  },
  {
   "cell_type": "code",
   "execution_count": 10,
   "id": "30687d94-0b98-476a-b2af-8a9fe6374d9e",
   "metadata": {},
   "outputs": [
    {
     "name": "stdout",
     "output_type": "stream",
     "text": [
      "<class 'pandas.core.series.Series'>\n",
      "RangeIndex: 610 entries, 0 to 609\n",
      "Series name: dteday\n",
      "Non-Null Count  Dtype         \n",
      "--------------  -----         \n",
      "610 non-null    datetime64[ns]\n",
      "dtypes: datetime64[ns](1)\n",
      "memory usage: 4.9 KB\n"
     ]
    }
   ],
   "source": [
    "df1['dteday'].info()"
   ]
  },
  {
   "cell_type": "markdown",
   "id": "eee2becd-4809-4d66-895e-dbe9f3776bd4",
   "metadata": {},
   "source": [
    "##### Total number of Rows and Column in Dataset 1."
   ]
  },
  {
   "cell_type": "code",
   "execution_count": 12,
   "id": "773ecb4b-9e32-419c-975b-125c4ad5a6c3",
   "metadata": {},
   "outputs": [
    {
     "data": {
      "text/plain": [
       "(610, 10)"
      ]
     },
     "execution_count": 12,
     "metadata": {},
     "output_type": "execute_result"
    }
   ],
   "source": [
    "df1.shape"
   ]
  },
  {
   "cell_type": "markdown",
   "id": "d48d27df-1424-4e64-9b32-7f585d92a6c9",
   "metadata": {},
   "source": [
    "#### Check whether there is any null values or not "
   ]
  },
  {
   "cell_type": "code",
   "execution_count": 14,
   "id": "fa1c0c7f-c3e1-4f57-8acc-d49e0883ef96",
   "metadata": {},
   "outputs": [
    {
     "data": {
      "text/plain": [
       "instant       0\n",
       "dteday        0\n",
       "season        0\n",
       "yr            0\n",
       "mnth          0\n",
       "hr            0\n",
       "holiday       0\n",
       "weekday       0\n",
       "weathersit    0\n",
       "temp          0\n",
       "dtype: int64"
      ]
     },
     "execution_count": 14,
     "metadata": {},
     "output_type": "execute_result"
    }
   ],
   "source": [
    "df1.isnull().sum()"
   ]
  },
  {
   "cell_type": "markdown",
   "id": "75b6c4c4-1293-4261-bed0-3c97287fcb60",
   "metadata": {},
   "source": [
    "#### Duplicated values in Dataset 1."
   ]
  },
  {
   "cell_type": "code",
   "execution_count": 16,
   "id": "98a31164-f509-43b0-b3dc-44c7e208f3fe",
   "metadata": {},
   "outputs": [
    {
     "data": {
      "text/plain": [
       "0"
      ]
     },
     "execution_count": 16,
     "metadata": {},
     "output_type": "execute_result"
    }
   ],
   "source": [
    "#Total Duplicated values in Dataset1.\n",
    "df1.duplicated().sum()"
   ]
  },
  {
   "cell_type": "markdown",
   "id": "c41eec58-165c-4896-afde-0ddf02f75f65",
   "metadata": {},
   "source": [
    "#### Unique Value in dataset 1"
   ]
  },
  {
   "cell_type": "code",
   "execution_count": 18,
   "id": "10f94969-cdf1-46a6-86fa-0b77d8bccd54",
   "metadata": {},
   "outputs": [
    {
     "data": {
      "text/plain": [
       "instant       610\n",
       "dteday         28\n",
       "season          1\n",
       "yr              1\n",
       "mnth            1\n",
       "hr             24\n",
       "holiday         2\n",
       "weekday         7\n",
       "weathersit      4\n",
       "temp           23\n",
       "dtype: int64"
      ]
     },
     "execution_count": 18,
     "metadata": {},
     "output_type": "execute_result"
    }
   ],
   "source": [
    "df1.nunique()"
   ]
  },
  {
   "cell_type": "code",
   "execution_count": 19,
   "id": "d6eeb0af-a39d-42be-b4dc-936f818fb211",
   "metadata": {},
   "outputs": [
    {
     "data": {
      "text/html": [
       "<div>\n",
       "<style scoped>\n",
       "    .dataframe tbody tr th:only-of-type {\n",
       "        vertical-align: middle;\n",
       "    }\n",
       "\n",
       "    .dataframe tbody tr th {\n",
       "        vertical-align: top;\n",
       "    }\n",
       "\n",
       "    .dataframe thead th {\n",
       "        text-align: right;\n",
       "    }\n",
       "</style>\n",
       "<table border=\"1\" class=\"dataframe\">\n",
       "  <thead>\n",
       "    <tr style=\"text-align: right;\">\n",
       "      <th></th>\n",
       "      <th>instant</th>\n",
       "      <th>dteday</th>\n",
       "      <th>season</th>\n",
       "      <th>yr</th>\n",
       "      <th>mnth</th>\n",
       "      <th>hr</th>\n",
       "      <th>holiday</th>\n",
       "      <th>weekday</th>\n",
       "      <th>weathersit</th>\n",
       "      <th>temp</th>\n",
       "    </tr>\n",
       "  </thead>\n",
       "  <tbody>\n",
       "    <tr>\n",
       "      <th>0</th>\n",
       "      <td>1</td>\n",
       "      <td>2011-01-01</td>\n",
       "      <td>1</td>\n",
       "      <td>0</td>\n",
       "      <td>1</td>\n",
       "      <td>0</td>\n",
       "      <td>False</td>\n",
       "      <td>6</td>\n",
       "      <td>1</td>\n",
       "      <td>0.24</td>\n",
       "    </tr>\n",
       "    <tr>\n",
       "      <th>1</th>\n",
       "      <td>2</td>\n",
       "      <td>2011-01-01</td>\n",
       "      <td>1</td>\n",
       "      <td>0</td>\n",
       "      <td>1</td>\n",
       "      <td>1</td>\n",
       "      <td>False</td>\n",
       "      <td>6</td>\n",
       "      <td>1</td>\n",
       "      <td>0.22</td>\n",
       "    </tr>\n",
       "  </tbody>\n",
       "</table>\n",
       "</div>"
      ],
      "text/plain": [
       "   instant     dteday  season  yr  mnth  hr  holiday  weekday  weathersit  \\\n",
       "0        1 2011-01-01       1   0     1   0    False        6           1   \n",
       "1        2 2011-01-01       1   0     1   1    False        6           1   \n",
       "\n",
       "   temp  \n",
       "0  0.24  \n",
       "1  0.22  "
      ]
     },
     "execution_count": 19,
     "metadata": {},
     "output_type": "execute_result"
    }
   ],
   "source": [
    "df1.head(2)"
   ]
  },
  {
   "cell_type": "markdown",
   "id": "876f40e5-9c9d-452f-9b19-9e9e246fc315",
   "metadata": {},
   "source": [
    "### Load Dataset 2:"
   ]
  },
  {
   "cell_type": "code",
   "execution_count": 21,
   "id": "99e5d8e5-256d-475c-8940-209ae1184ad8",
   "metadata": {},
   "outputs": [],
   "source": [
    "df2 = pd.read_csv(\"dataset_2.xlsx - dataset_2.csv\")"
   ]
  },
  {
   "cell_type": "code",
   "execution_count": 22,
   "id": "8488ace2-a448-4d94-a5bc-5c413dd9db19",
   "metadata": {},
   "outputs": [
    {
     "data": {
      "text/html": [
       "<div>\n",
       "<style scoped>\n",
       "    .dataframe tbody tr th:only-of-type {\n",
       "        vertical-align: middle;\n",
       "    }\n",
       "\n",
       "    .dataframe tbody tr th {\n",
       "        vertical-align: top;\n",
       "    }\n",
       "\n",
       "    .dataframe thead th {\n",
       "        text-align: right;\n",
       "    }\n",
       "</style>\n",
       "<table border=\"1\" class=\"dataframe\">\n",
       "  <thead>\n",
       "    <tr style=\"text-align: right;\">\n",
       "      <th></th>\n",
       "      <th>Unnamed: 0</th>\n",
       "      <th>instant</th>\n",
       "      <th>atemp</th>\n",
       "      <th>hum</th>\n",
       "      <th>windspeed</th>\n",
       "      <th>casual</th>\n",
       "      <th>registered</th>\n",
       "      <th>cnt</th>\n",
       "    </tr>\n",
       "  </thead>\n",
       "  <tbody>\n",
       "    <tr>\n",
       "      <th>0</th>\n",
       "      <td>0</td>\n",
       "      <td>1</td>\n",
       "      <td>0.2879</td>\n",
       "      <td>0.81</td>\n",
       "      <td>0.0</td>\n",
       "      <td>3</td>\n",
       "      <td>13</td>\n",
       "      <td>16</td>\n",
       "    </tr>\n",
       "    <tr>\n",
       "      <th>1</th>\n",
       "      <td>1</td>\n",
       "      <td>2</td>\n",
       "      <td>0.2727</td>\n",
       "      <td>0.80</td>\n",
       "      <td>0.0</td>\n",
       "      <td>8</td>\n",
       "      <td>32</td>\n",
       "      <td>40</td>\n",
       "    </tr>\n",
       "  </tbody>\n",
       "</table>\n",
       "</div>"
      ],
      "text/plain": [
       "   Unnamed: 0  instant   atemp   hum  windspeed  casual  registered  cnt\n",
       "0           0        1  0.2879  0.81        0.0       3          13   16\n",
       "1           1        2  0.2727  0.80        0.0       8          32   40"
      ]
     },
     "execution_count": 22,
     "metadata": {},
     "output_type": "execute_result"
    }
   ],
   "source": [
    "df2.head(2)"
   ]
  },
  {
   "cell_type": "markdown",
   "id": "4309786e-ee77-4888-8ca5-18888af9b871",
   "metadata": {},
   "source": [
    "#### Information and Summary of Dataset 2:"
   ]
  },
  {
   "cell_type": "code",
   "execution_count": 24,
   "id": "8f879a8b-d33a-4a5d-8938-2caa8096b730",
   "metadata": {},
   "outputs": [
    {
     "name": "stdout",
     "output_type": "stream",
     "text": [
      "<class 'pandas.core.frame.DataFrame'>\n",
      "RangeIndex: 610 entries, 0 to 609\n",
      "Data columns (total 8 columns):\n",
      " #   Column      Non-Null Count  Dtype  \n",
      "---  ------      --------------  -----  \n",
      " 0   Unnamed: 0  610 non-null    int64  \n",
      " 1   instant     610 non-null    int64  \n",
      " 2   atemp       599 non-null    float64\n",
      " 3   hum         610 non-null    float64\n",
      " 4   windspeed   610 non-null    float64\n",
      " 5   casual      610 non-null    int64  \n",
      " 6   registered  610 non-null    int64  \n",
      " 7   cnt         610 non-null    int64  \n",
      "dtypes: float64(3), int64(5)\n",
      "memory usage: 38.3 KB\n"
     ]
    }
   ],
   "source": [
    "df2.info()"
   ]
  },
  {
   "cell_type": "markdown",
   "id": "1c97fe0e-3648-4cbe-9ccb-c32cc681cc0f",
   "metadata": {},
   "source": [
    "#### Total number of rows and columns :"
   ]
  },
  {
   "cell_type": "code",
   "execution_count": 26,
   "id": "d4d4e5e4-7e90-42ac-a941-1cba78893a2e",
   "metadata": {},
   "outputs": [
    {
     "data": {
      "text/plain": [
       "(610, 8)"
      ]
     },
     "execution_count": 26,
     "metadata": {},
     "output_type": "execute_result"
    }
   ],
   "source": [
    "df2.shape"
   ]
  },
  {
   "cell_type": "code",
   "execution_count": 27,
   "id": "58ee0179-3b48-484f-a3e1-2e5c69f5ce6b",
   "metadata": {},
   "outputs": [
    {
     "data": {
      "text/plain": [
       "Index(['Unnamed: 0', 'instant', 'atemp', 'hum', 'windspeed', 'casual',\n",
       "       'registered', 'cnt'],\n",
       "      dtype='object')"
      ]
     },
     "execution_count": 27,
     "metadata": {},
     "output_type": "execute_result"
    }
   ],
   "source": [
    "df2.columns"
   ]
  },
  {
   "cell_type": "markdown",
   "id": "54c586be-6ae6-40d0-a1b1-fc99c6eb4da9",
   "metadata": {},
   "source": [
    "#### Duplicate values in Dataset 2."
   ]
  },
  {
   "cell_type": "code",
   "execution_count": 29,
   "id": "f27f99c8-573b-4a54-8356-41baca466763",
   "metadata": {},
   "outputs": [
    {
     "data": {
      "text/plain": [
       "0"
      ]
     },
     "execution_count": 29,
     "metadata": {},
     "output_type": "execute_result"
    }
   ],
   "source": [
    "df2.duplicated().sum()"
   ]
  },
  {
   "cell_type": "markdown",
   "id": "3e110aaa-8915-42d8-9b32-e31fc36e07d0",
   "metadata": {},
   "source": [
    "#### Unique values in Dataset 2."
   ]
  },
  {
   "cell_type": "code",
   "execution_count": 31,
   "id": "457265cf-5de1-4c00-b2f4-f5a66761e9bf",
   "metadata": {},
   "outputs": [
    {
     "data": {
      "text/plain": [
       "Unnamed: 0    610\n",
       "instant       610\n",
       "atemp          29\n",
       "hum            61\n",
       "windspeed      20\n",
       "casual         32\n",
       "registered    150\n",
       "cnt           165\n",
       "dtype: int64"
      ]
     },
     "execution_count": 31,
     "metadata": {},
     "output_type": "execute_result"
    }
   ],
   "source": [
    "df2.nunique()"
   ]
  },
  {
   "cell_type": "markdown",
   "id": "f2e423c2-9e12-42dd-941b-36443bf4df11",
   "metadata": {},
   "source": [
    "#### Null values in Dataset 2:"
   ]
  },
  {
   "cell_type": "code",
   "execution_count": 33,
   "id": "b9d31783-5318-4326-a84a-822c48a7cefe",
   "metadata": {},
   "outputs": [
    {
     "data": {
      "text/plain": [
       "Unnamed: 0     0\n",
       "instant        0\n",
       "atemp         11\n",
       "hum            0\n",
       "windspeed      0\n",
       "casual         0\n",
       "registered     0\n",
       "cnt            0\n",
       "dtype: int64"
      ]
     },
     "execution_count": 33,
     "metadata": {},
     "output_type": "execute_result"
    }
   ],
   "source": [
    "df2.isnull().sum()"
   ]
  },
  {
   "cell_type": "code",
   "execution_count": 34,
   "id": "4813faff-fb4a-478f-a591-4a3e36842bbc",
   "metadata": {},
   "outputs": [
    {
     "data": {
      "text/plain": [
       "Unnamed: 0     0\n",
       "instant        0\n",
       "atemp         11\n",
       "hum            0\n",
       "windspeed      0\n",
       "casual         0\n",
       "registered     0\n",
       "cnt            0\n",
       "dtype: int64"
      ]
     },
     "execution_count": 34,
     "metadata": {},
     "output_type": "execute_result"
    }
   ],
   "source": [
    "#Dataset after removing null values.\n",
    "df2.isnull().sum()"
   ]
  },
  {
   "cell_type": "markdown",
   "id": "162f1450-6996-48cb-bc36-1840ea3c979e",
   "metadata": {},
   "source": [
    "#### Drop Unnamed and instant columns."
   ]
  },
  {
   "cell_type": "code",
   "execution_count": 36,
   "id": "2671f7e4-5092-448f-88a3-78395bcdd5d6",
   "metadata": {},
   "outputs": [],
   "source": [
    "df2 = df2.drop(['Unnamed: 0'],axis=1)"
   ]
  },
  {
   "cell_type": "code",
   "execution_count": 37,
   "id": "db1e5a23-8ca1-4765-ae7b-4b29a8bfac3c",
   "metadata": {},
   "outputs": [
    {
     "data": {
      "text/html": [
       "<div>\n",
       "<style scoped>\n",
       "    .dataframe tbody tr th:only-of-type {\n",
       "        vertical-align: middle;\n",
       "    }\n",
       "\n",
       "    .dataframe tbody tr th {\n",
       "        vertical-align: top;\n",
       "    }\n",
       "\n",
       "    .dataframe thead th {\n",
       "        text-align: right;\n",
       "    }\n",
       "</style>\n",
       "<table border=\"1\" class=\"dataframe\">\n",
       "  <thead>\n",
       "    <tr style=\"text-align: right;\">\n",
       "      <th></th>\n",
       "      <th>instant</th>\n",
       "      <th>atemp</th>\n",
       "      <th>hum</th>\n",
       "      <th>windspeed</th>\n",
       "      <th>casual</th>\n",
       "      <th>registered</th>\n",
       "      <th>cnt</th>\n",
       "    </tr>\n",
       "  </thead>\n",
       "  <tbody>\n",
       "    <tr>\n",
       "      <th>0</th>\n",
       "      <td>1</td>\n",
       "      <td>0.2879</td>\n",
       "      <td>0.81</td>\n",
       "      <td>0.0</td>\n",
       "      <td>3</td>\n",
       "      <td>13</td>\n",
       "      <td>16</td>\n",
       "    </tr>\n",
       "    <tr>\n",
       "      <th>1</th>\n",
       "      <td>2</td>\n",
       "      <td>0.2727</td>\n",
       "      <td>0.80</td>\n",
       "      <td>0.0</td>\n",
       "      <td>8</td>\n",
       "      <td>32</td>\n",
       "      <td>40</td>\n",
       "    </tr>\n",
       "  </tbody>\n",
       "</table>\n",
       "</div>"
      ],
      "text/plain": [
       "   instant   atemp   hum  windspeed  casual  registered  cnt\n",
       "0        1  0.2879  0.81        0.0       3          13   16\n",
       "1        2  0.2727  0.80        0.0       8          32   40"
      ]
     },
     "execution_count": 37,
     "metadata": {},
     "output_type": "execute_result"
    }
   ],
   "source": [
    "df2.head(2)"
   ]
  },
  {
   "cell_type": "markdown",
   "id": "26bf2558-0527-47cd-b00a-7eb06d58ca83",
   "metadata": {},
   "source": [
    "#### Merge Dataset 1 and 2."
   ]
  },
  {
   "cell_type": "code",
   "execution_count": 39,
   "id": "e7584d45-2547-4224-8aa4-12fe47375468",
   "metadata": {},
   "outputs": [],
   "source": [
    "df=pd.merge(df1,df2)"
   ]
  },
  {
   "cell_type": "code",
   "execution_count": 40,
   "id": "c2f477e4-49ef-4b6e-ab1d-c908c1abd356",
   "metadata": {},
   "outputs": [
    {
     "data": {
      "text/html": [
       "<div>\n",
       "<style scoped>\n",
       "    .dataframe tbody tr th:only-of-type {\n",
       "        vertical-align: middle;\n",
       "    }\n",
       "\n",
       "    .dataframe tbody tr th {\n",
       "        vertical-align: top;\n",
       "    }\n",
       "\n",
       "    .dataframe thead th {\n",
       "        text-align: right;\n",
       "    }\n",
       "</style>\n",
       "<table border=\"1\" class=\"dataframe\">\n",
       "  <thead>\n",
       "    <tr style=\"text-align: right;\">\n",
       "      <th></th>\n",
       "      <th>instant</th>\n",
       "      <th>dteday</th>\n",
       "      <th>season</th>\n",
       "      <th>yr</th>\n",
       "      <th>mnth</th>\n",
       "      <th>hr</th>\n",
       "      <th>holiday</th>\n",
       "      <th>weekday</th>\n",
       "      <th>weathersit</th>\n",
       "      <th>temp</th>\n",
       "      <th>atemp</th>\n",
       "      <th>hum</th>\n",
       "      <th>windspeed</th>\n",
       "      <th>casual</th>\n",
       "      <th>registered</th>\n",
       "      <th>cnt</th>\n",
       "    </tr>\n",
       "  </thead>\n",
       "  <tbody>\n",
       "    <tr>\n",
       "      <th>0</th>\n",
       "      <td>1</td>\n",
       "      <td>2011-01-01</td>\n",
       "      <td>1</td>\n",
       "      <td>0</td>\n",
       "      <td>1</td>\n",
       "      <td>0</td>\n",
       "      <td>False</td>\n",
       "      <td>6</td>\n",
       "      <td>1</td>\n",
       "      <td>0.24</td>\n",
       "      <td>0.2879</td>\n",
       "      <td>0.81</td>\n",
       "      <td>0.0</td>\n",
       "      <td>3</td>\n",
       "      <td>13</td>\n",
       "      <td>16</td>\n",
       "    </tr>\n",
       "    <tr>\n",
       "      <th>1</th>\n",
       "      <td>2</td>\n",
       "      <td>2011-01-01</td>\n",
       "      <td>1</td>\n",
       "      <td>0</td>\n",
       "      <td>1</td>\n",
       "      <td>1</td>\n",
       "      <td>False</td>\n",
       "      <td>6</td>\n",
       "      <td>1</td>\n",
       "      <td>0.22</td>\n",
       "      <td>0.2727</td>\n",
       "      <td>0.80</td>\n",
       "      <td>0.0</td>\n",
       "      <td>8</td>\n",
       "      <td>32</td>\n",
       "      <td>40</td>\n",
       "    </tr>\n",
       "  </tbody>\n",
       "</table>\n",
       "</div>"
      ],
      "text/plain": [
       "   instant     dteday  season  yr  mnth  hr  holiday  weekday  weathersit  \\\n",
       "0        1 2011-01-01       1   0     1   0    False        6           1   \n",
       "1        2 2011-01-01       1   0     1   1    False        6           1   \n",
       "\n",
       "   temp   atemp   hum  windspeed  casual  registered  cnt  \n",
       "0  0.24  0.2879  0.81        0.0       3          13   16  \n",
       "1  0.22  0.2727  0.80        0.0       8          32   40  "
      ]
     },
     "execution_count": 40,
     "metadata": {},
     "output_type": "execute_result"
    }
   ],
   "source": [
    "df.head(2)"
   ]
  },
  {
   "cell_type": "markdown",
   "id": "0efbb961-0828-4619-adf0-48bcbe7af859",
   "metadata": {},
   "source": [
    "#### Merge Dataset Summary"
   ]
  },
  {
   "cell_type": "code",
   "execution_count": 42,
   "id": "1e881c4c-df86-49cf-9fdd-757c64b8eaa5",
   "metadata": {},
   "outputs": [
    {
     "name": "stdout",
     "output_type": "stream",
     "text": [
      "<class 'pandas.core.frame.DataFrame'>\n",
      "RangeIndex: 610 entries, 0 to 609\n",
      "Data columns (total 16 columns):\n",
      " #   Column      Non-Null Count  Dtype         \n",
      "---  ------      --------------  -----         \n",
      " 0   instant     610 non-null    int64         \n",
      " 1   dteday      610 non-null    datetime64[ns]\n",
      " 2   season      610 non-null    int64         \n",
      " 3   yr          610 non-null    int64         \n",
      " 4   mnth        610 non-null    int64         \n",
      " 5   hr          610 non-null    int64         \n",
      " 6   holiday     610 non-null    bool          \n",
      " 7   weekday     610 non-null    int64         \n",
      " 8   weathersit  610 non-null    int64         \n",
      " 9   temp        610 non-null    float64       \n",
      " 10  atemp       599 non-null    float64       \n",
      " 11  hum         610 non-null    float64       \n",
      " 12  windspeed   610 non-null    float64       \n",
      " 13  casual      610 non-null    int64         \n",
      " 14  registered  610 non-null    int64         \n",
      " 15  cnt         610 non-null    int64         \n",
      "dtypes: bool(1), datetime64[ns](1), float64(4), int64(10)\n",
      "memory usage: 72.2 KB\n"
     ]
    }
   ],
   "source": [
    "df.info()"
   ]
  },
  {
   "cell_type": "markdown",
   "id": "19838627-6162-48ed-8433-228cb8107716",
   "metadata": {},
   "source": [
    "#### Unique Values in Merge Dataset."
   ]
  },
  {
   "cell_type": "code",
   "execution_count": 44,
   "id": "e6d8ff65-f182-4dce-ae19-ed959138ca7a",
   "metadata": {},
   "outputs": [
    {
     "data": {
      "text/plain": [
       "instant       610\n",
       "dteday         28\n",
       "season          1\n",
       "yr              1\n",
       "mnth            1\n",
       "hr             24\n",
       "holiday         2\n",
       "weekday         7\n",
       "weathersit      4\n",
       "temp           23\n",
       "atemp          29\n",
       "hum            61\n",
       "windspeed      20\n",
       "casual         32\n",
       "registered    150\n",
       "cnt           165\n",
       "dtype: int64"
      ]
     },
     "execution_count": 44,
     "metadata": {},
     "output_type": "execute_result"
    }
   ],
   "source": [
    "df.nunique()"
   ]
  },
  {
   "cell_type": "code",
   "execution_count": 45,
   "id": "84443d0d-4533-4d70-b5e7-3ca85c57cf05",
   "metadata": {},
   "outputs": [
    {
     "data": {
      "text/plain": [
       "0"
      ]
     },
     "execution_count": 45,
     "metadata": {},
     "output_type": "execute_result"
    }
   ],
   "source": [
    "df.duplicated().sum()"
   ]
  },
  {
   "cell_type": "code",
   "execution_count": 46,
   "id": "51029905-6491-402c-9823-c275085f9d3f",
   "metadata": {},
   "outputs": [
    {
     "data": {
      "text/plain": [
       "instant        0\n",
       "dteday         0\n",
       "season         0\n",
       "yr             0\n",
       "mnth           0\n",
       "hr             0\n",
       "holiday        0\n",
       "weekday        0\n",
       "weathersit     0\n",
       "temp           0\n",
       "atemp         11\n",
       "hum            0\n",
       "windspeed      0\n",
       "casual         0\n",
       "registered     0\n",
       "cnt            0\n",
       "dtype: int64"
      ]
     },
     "execution_count": 46,
     "metadata": {},
     "output_type": "execute_result"
    }
   ],
   "source": [
    "df.isnull().sum()"
   ]
  },
  {
   "cell_type": "code",
   "execution_count": 47,
   "id": "9c3252b0-eb3f-4d99-b280-26dc5d347055",
   "metadata": {},
   "outputs": [
    {
     "data": {
      "text/html": [
       "<div>\n",
       "<style scoped>\n",
       "    .dataframe tbody tr th:only-of-type {\n",
       "        vertical-align: middle;\n",
       "    }\n",
       "\n",
       "    .dataframe tbody tr th {\n",
       "        vertical-align: top;\n",
       "    }\n",
       "\n",
       "    .dataframe thead th {\n",
       "        text-align: right;\n",
       "    }\n",
       "</style>\n",
       "<table border=\"1\" class=\"dataframe\">\n",
       "  <thead>\n",
       "    <tr style=\"text-align: right;\">\n",
       "      <th></th>\n",
       "      <th>instant</th>\n",
       "      <th>dteday</th>\n",
       "      <th>season</th>\n",
       "      <th>yr</th>\n",
       "      <th>mnth</th>\n",
       "      <th>hr</th>\n",
       "      <th>holiday</th>\n",
       "      <th>weekday</th>\n",
       "      <th>weathersit</th>\n",
       "      <th>temp</th>\n",
       "      <th>atemp</th>\n",
       "      <th>hum</th>\n",
       "      <th>windspeed</th>\n",
       "      <th>casual</th>\n",
       "      <th>registered</th>\n",
       "      <th>cnt</th>\n",
       "    </tr>\n",
       "  </thead>\n",
       "  <tbody>\n",
       "    <tr>\n",
       "      <th>0</th>\n",
       "      <td>1</td>\n",
       "      <td>2011-01-01</td>\n",
       "      <td>1</td>\n",
       "      <td>0</td>\n",
       "      <td>1</td>\n",
       "      <td>0</td>\n",
       "      <td>False</td>\n",
       "      <td>6</td>\n",
       "      <td>1</td>\n",
       "      <td>0.24</td>\n",
       "      <td>0.2879</td>\n",
       "      <td>0.81</td>\n",
       "      <td>0.0</td>\n",
       "      <td>3</td>\n",
       "      <td>13</td>\n",
       "      <td>16</td>\n",
       "    </tr>\n",
       "    <tr>\n",
       "      <th>1</th>\n",
       "      <td>2</td>\n",
       "      <td>2011-01-01</td>\n",
       "      <td>1</td>\n",
       "      <td>0</td>\n",
       "      <td>1</td>\n",
       "      <td>1</td>\n",
       "      <td>False</td>\n",
       "      <td>6</td>\n",
       "      <td>1</td>\n",
       "      <td>0.22</td>\n",
       "      <td>0.2727</td>\n",
       "      <td>0.80</td>\n",
       "      <td>0.0</td>\n",
       "      <td>8</td>\n",
       "      <td>32</td>\n",
       "      <td>40</td>\n",
       "    </tr>\n",
       "  </tbody>\n",
       "</table>\n",
       "</div>"
      ],
      "text/plain": [
       "   instant     dteday  season  yr  mnth  hr  holiday  weekday  weathersit  \\\n",
       "0        1 2011-01-01       1   0     1   0    False        6           1   \n",
       "1        2 2011-01-01       1   0     1   1    False        6           1   \n",
       "\n",
       "   temp   atemp   hum  windspeed  casual  registered  cnt  \n",
       "0  0.24  0.2879  0.81        0.0       3          13   16  \n",
       "1  0.22  0.2727  0.80        0.0       8          32   40  "
      ]
     },
     "execution_count": 47,
     "metadata": {},
     "output_type": "execute_result"
    }
   ],
   "source": [
    "df.head(2)"
   ]
  },
  {
   "cell_type": "markdown",
   "id": "d9ccf93b-c559-4e5a-abef-c2fc6c071bca",
   "metadata": {},
   "source": [
    "#### Data visualization."
   ]
  },
  {
   "cell_type": "code",
   "execution_count": 49,
   "id": "e600c5d1-5751-4da7-8d8c-d5ca6e79ac77",
   "metadata": {},
   "outputs": [
    {
     "data": {
      "text/plain": [
       "610"
      ]
     },
     "execution_count": 49,
     "metadata": {},
     "output_type": "execute_result"
    }
   ],
   "source": [
    "df['temp'].value_counts().sum()"
   ]
  },
  {
   "cell_type": "code",
   "execution_count": 50,
   "id": "6a0429bf-c348-4529-9280-bb2a0a10216f",
   "metadata": {},
   "outputs": [
    {
     "data": {
      "image/png": "[encoded data removed]",
      "text/plain": [
       "<Figure size 640x480 with 1 Axes>"
      ]
     },
     "metadata": {},
     "output_type": "display_data"
    }
   ],
   "source": [
    "df['temp'].value_counts().plot(kind='bar',color=\"green\")\n",
    "plt.title(\"Temprature\")\n",
    "plt.show()"
   ]
  },
  {
   "cell_type": "code",
   "execution_count": 51,
   "id": "6cc6344d-cf79-439f-8578-2574ea0c9ab7",
   "metadata": {},
   "outputs": [
    {
     "data": {
      "text/html": [
       "<div>\n",
       "<style scoped>\n",
       "    .dataframe tbody tr th:only-of-type {\n",
       "        vertical-align: middle;\n",
       "    }\n",
       "\n",
       "    .dataframe tbody tr th {\n",
       "        vertical-align: top;\n",
       "    }\n",
       "\n",
       "    .dataframe thead th {\n",
       "        text-align: right;\n",
       "    }\n",
       "</style>\n",
       "<table border=\"1\" class=\"dataframe\">\n",
       "  <thead>\n",
       "    <tr style=\"text-align: right;\">\n",
       "      <th></th>\n",
       "      <th>instant</th>\n",
       "      <th>dteday</th>\n",
       "      <th>season</th>\n",
       "      <th>yr</th>\n",
       "      <th>mnth</th>\n",
       "      <th>hr</th>\n",
       "      <th>holiday</th>\n",
       "      <th>weekday</th>\n",
       "      <th>weathersit</th>\n",
       "      <th>temp</th>\n",
       "      <th>atemp</th>\n",
       "      <th>hum</th>\n",
       "      <th>windspeed</th>\n",
       "      <th>casual</th>\n",
       "      <th>registered</th>\n",
       "      <th>cnt</th>\n",
       "    </tr>\n",
       "  </thead>\n",
       "  <tbody>\n",
       "    <tr>\n",
       "      <th>0</th>\n",
       "      <td>1</td>\n",
       "      <td>2011-01-01</td>\n",
       "      <td>1</td>\n",
       "      <td>0</td>\n",
       "      <td>1</td>\n",
       "      <td>0</td>\n",
       "      <td>False</td>\n",
       "      <td>6</td>\n",
       "      <td>1</td>\n",
       "      <td>0.24</td>\n",
       "      <td>0.2879</td>\n",
       "      <td>0.81</td>\n",
       "      <td>0.0</td>\n",
       "      <td>3</td>\n",
       "      <td>13</td>\n",
       "      <td>16</td>\n",
       "    </tr>\n",
       "    <tr>\n",
       "      <th>1</th>\n",
       "      <td>2</td>\n",
       "      <td>2011-01-01</td>\n",
       "      <td>1</td>\n",
       "      <td>0</td>\n",
       "      <td>1</td>\n",
       "      <td>1</td>\n",
       "      <td>False</td>\n",
       "      <td>6</td>\n",
       "      <td>1</td>\n",
       "      <td>0.22</td>\n",
       "      <td>0.2727</td>\n",
       "      <td>0.80</td>\n",
       "      <td>0.0</td>\n",
       "      <td>8</td>\n",
       "      <td>32</td>\n",
       "      <td>40</td>\n",
       "    </tr>\n",
       "  </tbody>\n",
       "</table>\n",
       "</div>"
      ],
      "text/plain": [
       "   instant     dteday  season  yr  mnth  hr  holiday  weekday  weathersit  \\\n",
       "0        1 2011-01-01       1   0     1   0    False        6           1   \n",
       "1        2 2011-01-01       1   0     1   1    False        6           1   \n",
       "\n",
       "   temp   atemp   hum  windspeed  casual  registered  cnt  \n",
       "0  0.24  0.2879  0.81        0.0       3          13   16  \n",
       "1  0.22  0.2727  0.80        0.0       8          32   40  "
      ]
     },
     "execution_count": 51,
     "metadata": {},
     "output_type": "execute_result"
    }
   ],
   "source": [
    "df.head(2)"
   ]
  },
  {
   "cell_type": "code",
   "execution_count": 111,
   "id": "a571b3e5-e1c2-4995-8cce-65a036e54334",
   "metadata": {},
   "outputs": [
    {
     "data": {
      "text/plain": [
       "hum\n",
       "0.47    37\n",
       "0.93    32\n",
       "0.55    31\n",
       "0.50    28\n",
       "0.59    27\n",
       "        ..\n",
       "0.92     1\n",
       "0.27     1\n",
       "0.21     1\n",
       "0.25     1\n",
       "1.00     1\n",
       "Name: count, Length: 61, dtype: int64"
      ]
     },
     "execution_count": 111,
     "metadata": {},
     "output_type": "execute_result"
    }
   ],
   "source": [
    "df['hum'].value_counts()"
   ]
  },
  {
   "cell_type": "code",
   "execution_count": 123,
   "id": "ff425eb6-657c-4754-b647-c1aa568e4b6e",
   "metadata": {},
   "outputs": [
    {
     "data": {
      "image/png": "[encoded data removed]",
      "text/plain": [
       "<Figure size 640x480 with 1 Axes>"
      ]
     },
     "metadata": {},
     "output_type": "display_data"
    }
   ],
   "source": [
    "sns.histplot(df['hum'])\n",
    "plt.xlabel(\"X-axis\")\n",
    "plt.ylabel(\"Y-axis\")\n",
    "plt.title(\"Line Graph Example\")\n",
    "plt.show()"
   ]
  },
  {
   "cell_type": "code",
   "execution_count": 135,
   "id": "3baf2dcf-597d-4f2b-8a96-0c85e9a789e6",
   "metadata": {},
   "outputs": [
    {
     "data": {
      "image/png": "[encoded data removed]",
      "text/plain": [
       "<Figure size 1100x600 with 1 Axes>"
      ]
     },
     "metadata": {},
     "output_type": "display_data"
    },
    {
     "data": {
      "image/png": "[encoded data removed]",
      "text/plain": [
       "<Figure size 1200x600 with 1 Axes>"
      ]
     },
     "metadata": {},
     "output_type": "display_data"
    }
   ],
   "source": [
    "plt.figure(figsize=(11,6))\n",
    "sns.lineplot(x=df['hr'],y=df['cnt'])\n",
    "\n",
    "\n",
    "plt.figure(figsize=(12, 6)) \n",
    "# Create a line plot \n",
    "sns.lineplot(x=\"dteday\", y=\"cnt\", data=df, marker=\"o\", color=\"b\") \n",
    "# Labels and title \n",
    "plt.xlabel(\"Date\") \n",
    "plt.ylabel(\"Total Bike Rentals\") \n",
    "plt.title(\"Bike Rentals Over Time\") \n",
    "#Rotate x-axis labels for better readability \n",
    "plt.xticks(rotation=45) # Show the plot \n",
    "plt.show()"
   ]
  },
  {
   "cell_type": "code",
   "execution_count": 137,
   "id": "68650c50-f4e3-408a-ac7e-9b415a07d009",
   "metadata": {},
   "outputs": [],
   "source": [
    "df.to_csv(\"/Users/deept/OneDrive/Desktop/Project_2/merge_data1.csv\",index=False)"
   ]
  },
  {
   "cell_type": "code",
   "execution_count": null,
   "id": "1c7066a2-5019-4d70-ac96-b131acb6b00f",
   "metadata": {},
   "outputs": [],
   "source": []
  }
 ],
 "metadata": {
  "kernelspec": {
   "display_name": "Python 3 (ipykernel)",
   "language": "python",
   "name": "python3"
  },
  "language_info": {
   "codemirror_mode": {
    "name": "ipython",
    "version": 3
   },
   "file_extension": ".py",
   "mimetype": "text/x-python",
   "name": "python",
   "nbconvert_exporter": "python",
   "pygments_lexer": "ipython3",
   "version": "3.12.4"
  }
 },
 "nbformat": 4,
 "nbformat_minor": 5
}
